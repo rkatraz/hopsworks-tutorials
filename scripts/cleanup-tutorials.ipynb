{
 "cells": [
  {
   "cell_type": "code",
   "execution_count": 1,
   "id": "f3ccf480",
   "metadata": {},
   "outputs": [
    {
     "name": "stdout",
     "output_type": "stream",
     "text": [
      "Connected. Call `.close()` to terminate connection gracefully.\n",
      "\n",
      "Logged in to project, explore it here https://staging.cloud.hopsworks.ai/p/119\n",
      "Connected. Call `.close()` to terminate connection gracefully.\n",
      "Connected. Call `.close()` to terminate connection gracefully.\n",
      "Connected. Call `.close()` to terminate connection gracefully.\n"
     ]
    }
   ],
   "source": [
    "import hopsworks\n",
    "\n",
    "project = hopsworks.login()\n",
    "fs = project.get_feature_store()\n",
    "mr = project.get_model_registry()\n",
    "ms = project.get_model_serving()\n"
   ]
  },
  {
   "cell_type": "markdown",
   "id": "64fc9881",
   "metadata": {},
   "source": [
    "## Cleanup Quickstart.ipynb"
   ]
  },
  {
   "cell_type": "code",
   "execution_count": 2,
   "id": "b6f03eed",
   "metadata": {},
   "outputs": [
    {
     "name": "stdout",
     "output_type": "stream",
     "text": [
      "Couldn't delete fraud deployment\n",
      "Couldn't delete fraud model\n",
      "Couldn't delete transactions_view feature view\n",
      "Couldn't delete transactions FG\n",
      "Couldn't delete transactions_4h_aggs FG\n"
     ]
    }
   ],
   "source": [
    "# Delete the deployment before the model\n",
    "\n",
    "deployments=[\"fraud\"]\n",
    "for d in deployments:\n",
    "    try:\n",
    "        deployment = ms.get_deployment(f\"{d}\")\n",
    "        deployment.stop()\n",
    "        deployment.delete()\n",
    "    except:\n",
    "        print(f\"Couldn't delete {d} deployment\")    \n",
    "    \n",
    "    \n",
    "models=[\"fraud\"]\n",
    "for model in models:\n",
    "    try:\n",
    "        model = mr.get_model(f\"{model}\", version=1)\n",
    "        model.delete()\n",
    "    except:\n",
    "        print(f\"Couldn't delete {model} model\")\n",
    "        \n",
    "# Delete the feature_views before the feature groups\n",
    "\n",
    "fvs=[\"transactions_view\"]\n",
    "\n",
    "for fv in fvs:\n",
    "    try:\n",
    "        feature_view = fs.get_feature_view(name=f\"{fv}\", version=1)\n",
    "        feature_view.delete()\n",
    "    except:\n",
    "        print(f\"Couldn't delete {fv} feature view\")\n",
    "\n",
    "fgs=[\"transactions\", \"transactions_4h_aggs\"]\n",
    "\n",
    "for fg in fgs:\n",
    "    try:\n",
    "        fg = fs.get_feature_group(name=f\"{fg}\", version=1)\n",
    "        fg.delete()\n",
    "    except:\n",
    "        print(f\"Couldn't delete {fg} FG\")"
   ]
  },
  {
   "cell_type": "markdown",
   "id": "247dda5c",
   "metadata": {},
   "source": [
    "## Cleanup Fraud Batch"
   ]
  },
  {
   "cell_type": "code",
   "execution_count": 3,
   "id": "32eda9d7",
   "metadata": {},
   "outputs": [
    {
     "name": "stdout",
     "output_type": "stream",
     "text": [
      "Couldn't delete transactions_view_fraud_batch_fv feature view\n",
      "Couldn't delete transactions_fraud_batch_fg FG\n",
      "Couldn't delete transactions_4h_aggs_fraud_batch_fg FG\n"
     ]
    }
   ],
   "source": [
    "# Delete the feature_views before the feature groups\n",
    "\n",
    "fvs=[\"transactions_view_fraud_batch_fv\"]\n",
    "\n",
    "for fv in fvs:\n",
    "    try:\n",
    "        feature_view = fs.get_feature_view(name=f\"{fv}\", version=1)\n",
    "        feature_view.delete()\n",
    "    except:\n",
    "        print(f\"Couldn't delete {fv} feature view\")\n",
    "\n",
    "fgs=[\"transactions_fraud_batch_fg\", \"transactions_4h_aggs_fraud_batch_fg\"]\n",
    "\n",
    "for fg in fgs:\n",
    "    try:\n",
    "        fg = fs.get_feature_group(name=f\"{fg}\", version=1)\n",
    "        fg.delete()\n",
    "    except:\n",
    "        print(f\"Couldn't delete {fg} FG\")\n"
   ]
  },
  {
   "cell_type": "markdown",
   "id": "36be65d7",
   "metadata": {},
   "source": [
    "## Cleanup Fraud Online"
   ]
  },
  {
   "cell_type": "code",
   "execution_count": 4,
   "id": "dc902dcb",
   "metadata": {},
   "outputs": [
    {
     "name": "stdout",
     "output_type": "stream",
     "text": [
      "Couldn't delete fraudonlinemodeldeployment deployment\n",
      "Couldn't delete transactions_fraud_online_model model\n",
      "Couldn't delete transactions_fraud_online_fv feature view\n",
      "Couldn't delete profile_fraud_online_fg FG\n",
      "Couldn't delete transactions_fraud_online_fg FG\n"
     ]
    }
   ],
   "source": [
    "# Delete the deployment before the model\n",
    "\n",
    "deployments=[\"fraudonlinemodeldeployment\"]\n",
    "for d in deployments:\n",
    "    try:\n",
    "        deployment = ms.get_deployment(f\"{d}\")\n",
    "        deployment.stop()\n",
    "        deployment.delete()\n",
    "    except:\n",
    "        print(f\"Couldn't delete {d} deployment\")    \n",
    "    \n",
    "    \n",
    "models=[\"transactions_fraud_online_model\"]\n",
    "for model in models:\n",
    "    try:\n",
    "        model = mr.get_model(f\"{model}\", version=1)\n",
    "        model.delete()\n",
    "    except:\n",
    "        print(f\"Couldn't delete {model} model\")\n",
    "\n",
    "# Delete the feature_views before the feature groups\n",
    "\n",
    "fvs=[\"transactions_fraud_online_fv\"]\n",
    "\n",
    "for fv in fvs:\n",
    "    try:\n",
    "        feature_view = fs.get_feature_view(name=f\"{fv}\", version=1)\n",
    "        feature_view.delete()\n",
    "    except:\n",
    "        print(f\"Couldn't delete {fv} feature view\")\n",
    "\n",
    "fgs=[\"profile_fraud_online_fg\", \"transactions_fraud_online_fg\"]\n",
    "\n",
    "for fg in fgs:\n",
    "    try:\n",
    "        fg = fs.get_feature_group(name=f\"{fg}\", version=1)\n",
    "        fg.delete()\n",
    "    except:\n",
    "        print(f\"Couldn't delete {fg} FG\")"
   ]
  },
  {
   "cell_type": "markdown",
   "id": "9f9956da",
   "metadata": {},
   "source": [
    "## Cleanup Churn"
   ]
  },
  {
   "cell_type": "code",
   "execution_count": 5,
   "id": "8859dec7",
   "metadata": {},
   "outputs": [
    {
     "name": "stdout",
     "output_type": "stream",
     "text": [
      "Couldn't delete churnmodel model\n",
      "Couldn't delete churn_feature_view feature view\n",
      "Couldn't delete customer_info FG\n",
      "Couldn't delete customer_subscription_info FG\n",
      "Couldn't delete customer_subscription_info FG\n"
     ]
    }
   ],
   "source": [
    "models=[\"churnmodel\"]\n",
    "for model in models:\n",
    "    try:\n",
    "        model = mr.get_model(f\"{model}\", version=1)\n",
    "        model.delete()\n",
    "    except:\n",
    "        print(f\"Couldn't delete {model} model\")\n",
    "        \n",
    "# Delete the feature_views before the feature groups\n",
    "\n",
    "fvs=[\"churn_feature_view\"]\n",
    "\n",
    "for fv in fvs:\n",
    "    try:\n",
    "        feature_view = fs.get_feature_view(name=f\"{fv}\", version=1)\n",
    "        feature_view.delete()\n",
    "    except:\n",
    "        print(f\"Couldn't delete {fv} feature view\")\n",
    "\n",
    "fgs=[\"customer_info\", \"customer_subscription_info\", \"customer_subscription_info\"]\n",
    "\n",
    "for fg in fgs:\n",
    "    try:\n",
    "        fg = fs.get_feature_group(name=f\"{fg}\", version=1)\n",
    "        fg.delete()\n",
    "    except:\n",
    "        print(f\"Couldn't delete {fg} FG\")"
   ]
  },
  {
   "cell_type": "markdown",
   "id": "95af6eb8",
   "metadata": {},
   "source": [
    "## Cleanup Iris"
   ]
  },
  {
   "cell_type": "code",
   "execution_count": 6,
   "id": "4012b323",
   "metadata": {},
   "outputs": [
    {
     "name": "stdout",
     "output_type": "stream",
     "text": [
      "Couldn't delete irisdeployment deployment\n",
      "Couldn't delete iris_model model\n",
      "Couldn't delete iris_fv feature view\n",
      "Couldn't delete iris_fg FG\n"
     ]
    }
   ],
   "source": [
    "# Delete the deployment before the model\n",
    "\n",
    "deployments=[\"irisdeployment\"]\n",
    "for d in deployments:\n",
    "    try:\n",
    "        deployment = ms.get_deployment(f\"{d}\")\n",
    "        deployment.stop()\n",
    "        deployment.delete()\n",
    "    except:\n",
    "        print(f\"Couldn't delete {d} deployment\")    \n",
    "    \n",
    "    \n",
    "models=[\"iris_model\"]\n",
    "for model in models:\n",
    "    try:\n",
    "        model = mr.get_model(f\"{model}\", version=1)\n",
    "        model.delete()\n",
    "    except:\n",
    "        print(f\"Couldn't delete {model} model\")\n",
    "        \n",
    "# Delete the feature_views before the feature groups\n",
    "fvs=[\"iris_fv\"]\n",
    "\n",
    "for fv in fvs:\n",
    "    try:\n",
    "        feature_view = fs.get_feature_view(name=f\"{fv}\", version=1)\n",
    "        feature_view.delete()\n",
    "    except:\n",
    "        print(f\"Couldn't delete {fv} feature view\")\n",
    "\n",
    "fgs=[\"iris_fg\"]\n",
    "\n",
    "for fg in fgs:\n",
    "    try:\n",
    "        fg = fs.get_feature_group(name=f\"{fg}\", version=1)\n",
    "        fg.delete()\n",
    "    except:\n",
    "        print(f\"Couldn't delete {fg} FG\")"
   ]
  },
  {
   "cell_type": "markdown",
   "id": "3e17d08f",
   "metadata": {},
   "source": [
    "## Cleanup Great Expectations"
   ]
  },
  {
   "cell_type": "code",
   "execution_count": 7,
   "id": "98fe0c5f",
   "metadata": {},
   "outputs": [
    {
     "name": "stdout",
     "output_type": "stream",
     "text": [
      "Couldn't delete mini_transactions_fraud_batch_fg FG\n",
      "Couldn't delete ge_transactions_fg FG\n",
      "Couldn't delete my_validated_data_fg FG\n"
     ]
    }
   ],
   "source": [
    "fgs=[\"mini_transactions_fraud_batch_fg\", \"ge_transactions_fg\", \"my_validated_data_fg\"]\n",
    "\n",
    "for fg in fgs:\n",
    "    try:\n",
    "        fg = fs.get_feature_group(name=f\"{fg}\", version=1)\n",
    "        fg.delete()\n",
    "    except:\n",
    "        print(f\"Couldn't delete {fg} FG\")"
   ]
  },
  {
   "cell_type": "markdown",
   "id": "7cfa9ed2",
   "metadata": {},
   "source": [
    "## Cleanup WanDB"
   ]
  },
  {
   "cell_type": "code",
   "execution_count": 8,
   "id": "2f389a41",
   "metadata": {},
   "outputs": [
    {
     "name": "stdout",
     "output_type": "stream",
     "text": [
      "Couldn't delete transactions_view_fraud_batch_wandb feature view\n",
      "Couldn't delete transactions_4h_aggs_fraud_batch_wandb FG\n",
      "Couldn't delete transactions_fraud_batch_wandb FG\n"
     ]
    }
   ],
   "source": [
    "# Delete the feature_views before the feature groups\n",
    "\n",
    "fvs=[\"transactions_view_fraud_batch_wandb\"]\n",
    "\n",
    "for fv in fvs:\n",
    "    try:\n",
    "        feature_view = fs.get_feature_view(name=f\"{fv}\", version=1)\n",
    "        feature_view.delete()\n",
    "    except:\n",
    "        print(f\"Couldn't delete {fv} feature view\")\n",
    "\n",
    "fgs=[\"transactions_4h_aggs_fraud_batch_wandb\", \"transactions_fraud_batch_wandb\"]\n",
    "\n",
    "for fg in fgs:\n",
    "    try:\n",
    "        fg = fs.get_feature_group(name=f\"{fg}\", version=1)\n",
    "        fg.delete()\n",
    "    except:\n",
    "        print(f\"Couldn't delete {fg} FG\")\n"
   ]
  }
 ],
 "metadata": {
  "kernelspec": {
   "display_name": "Python",
   "language": "python",
   "name": "python3"
  },
  "language_info": {
   "codemirror_mode": {
    "name": "ipython",
    "version": 3
   },
   "file_extension": ".py",
   "mimetype": "text/x-python",
   "name": "python",
   "nbconvert_exporter": "python",
   "pygments_lexer": "ipython3",
   "version": "3.8.11"
  }
 },
 "nbformat": 4,
 "nbformat_minor": 5
}